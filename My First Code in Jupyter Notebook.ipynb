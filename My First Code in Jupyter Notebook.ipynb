{
 "cells": [
  {
   "cell_type": "code",
   "execution_count": null,
   "metadata": {
    "collapsed": true
   },
   "outputs": [],
   "source": [
    "# ***Introduction to python**"
   ]
  },
  {
   "cell_type": "code",
   "execution_count": 5,
   "metadata": {},
   "outputs": [
    {
     "name": "stdout",
     "output_type": "stream",
     "text": [
      "hello world\n"
     ]
    }
   ],
   "source": [
    "print(\"hello world\")\n"
   ]
  },
  {
   "cell_type": "code",
   "execution_count": 6,
   "metadata": {},
   "outputs": [
    {
     "name": "stdout",
     "output_type": "stream",
     "text": [
      "hey\n"
     ]
    }
   ],
   "source": [
    "print(\"hey\")"
   ]
  },
  {
   "cell_type": "markdown",
   "metadata": {},
   "source": [
    "HI"
   ]
  },
  {
   "cell_type": "markdown",
   "metadata": {},
   "source": [
    "# "
   ]
  },
  {
   "cell_type": "code",
   "execution_count": null,
   "metadata": {
    "collapsed": true
   },
   "outputs": [],
   "source": []
  },
  {
   "cell_type": "markdown",
   "metadata": {},
   "source": [
    "#Data type\n",
    "1)Number System\n",
    "   -->Int\n",
    "    ->Float\n",
    "    ->Complex\n",
    "2) string\n",
    "    -> ''\n",
    "    -> \"\"\n",
    "    ->\"\"\" \"\"\" OR ''' '''\n",
    "3) List\n",
    "    ->[]\n",
    "    ->Mutable Data type(We can update the actual data)\n",
    "    ->Array(plastic bag)--> put multiple data in this array\n",
    "    ->Index properties\n",
    "4)Tuples\n",
    "    ->()\n",
    "    ->Immutable data type(WE CANT UPDATE THE DATA)\n",
    "    ->Array\n",
    "    ->Index Properties\n",
    "    \n",
    " 5)Dictionary\n",
    "    ->{}\n",
    "    ->{Key : value}\n",
    "    -> look alike jason\n",
    "    ->it doesn't follow index properties\n",
    "    ->it is mutable\n",
    "    \n",
    " 6)Set\n",
    "    ->{}\n",
    "    ->BAsic set operation\n",
    "    like union,adjoint,intrsection etc"
   ]
  },
  {
   "cell_type": "code",
   "execution_count": 1,
   "metadata": {},
   "outputs": [
    {
     "name": "stdout",
     "output_type": "stream",
     "text": [
      "2 4\n"
     ]
    }
   ],
   "source": [
    "#Assignment\n",
    "#python support multiple assignment\n",
    "a=3\n",
    "a,b = 2,4\n",
    "print(a,b)"
   ]
  },
  {
   "cell_type": "code",
   "execution_count": 10,
   "metadata": {},
   "outputs": [
    {
     "name": "stdout",
     "output_type": "stream",
     "text": [
      "23\n"
     ]
    }
   ],
   "source": [
    "#variable\n",
    "a = 23\n",
    "print(a)"
   ]
  },
  {
   "cell_type": "code",
   "execution_count": 13,
   "metadata": {},
   "outputs": [
    {
     "ename": "SyntaxError",
     "evalue": "invalid syntax (<ipython-input-13-38d0a5f2d036>, line 5)",
     "output_type": "error",
     "traceback": [
      "\u001b[1;36m  File \u001b[1;32m\"<ipython-input-13-38d0a5f2d036>\"\u001b[1;36m, line \u001b[1;32m5\u001b[0m\n\u001b[1;33m    23s = 56\u001b[0m\n\u001b[1;37m      ^\u001b[0m\n\u001b[1;31mSyntaxError\u001b[0m\u001b[1;31m:\u001b[0m invalid syntax\n"
     ]
    }
   ],
   "source": [
    "__A = 23\n",
    "print(__A)\n",
    "_____s = 56\n",
    "print(_____s)\n",
    "23s = 56\n",
    "print(23s)"
   ]
  },
  {
   "cell_type": "code",
   "execution_count": 11,
   "metadata": {},
   "outputs": [
    {
     "name": "stdout",
     "output_type": "stream",
     "text": [
      "44\n"
     ]
    }
   ],
   "source": [
    "_a = 44\n",
    "print(_a)"
   ]
  },
  {
   "cell_type": "code",
   "execution_count": 12,
   "metadata": {},
   "outputs": [
    {
     "name": "stdout",
     "output_type": "stream",
     "text": [
      "55\n"
     ]
    }
   ],
   "source": [
    "_a_ = 55\n",
    "print(_a_)"
   ]
  },
  {
   "cell_type": "code",
   "execution_count": 14,
   "metadata": {},
   "outputs": [
    {
     "name": "stdout",
     "output_type": "stream",
     "text": [
      "5\n"
     ]
    }
   ],
   "source": [
    "a__ =5\n",
    "print(a__)"
   ]
  },
  {
   "cell_type": "markdown",
   "metadata": {},
   "source": [
    "# Note - \n",
    "#1)While declaring variable...variable name can be start\n",
    "#with underscore and character\n",
    "#2) variable with char andno is also valid\n",
    "\n"
   ]
  },
  {
   "cell_type": "code",
   "execution_count": 4,
   "metadata": {},
   "outputs": [
    {
     "name": "stdout",
     "output_type": "stream",
     "text": [
      "values of a & b is 4 3\n",
      "4 3\n",
      "Please insert the value a 3\n",
      "Please insert the value of b 4\n"
     ]
    },
    {
     "ename": "NameError",
     "evalue": "name 'ba' is not defined",
     "output_type": "error",
     "traceback": [
      "\u001b[1;31m---------------------------------------------------------------------------\u001b[0m",
      "\u001b[1;31mNameError\u001b[0m                                 Traceback (most recent call last)",
      "\u001b[1;32m<ipython-input-4-9c0b4e52a675>\u001b[0m in \u001b[0;36m<module>\u001b[1;34m()\u001b[0m\n\u001b[0;32m     17\u001b[0m \u001b[0mc\u001b[0m \u001b[1;33m=\u001b[0m \u001b[0ma\u001b[0m\u001b[1;33m*\u001b[0m\u001b[0mb\u001b[0m\u001b[1;33m\u001b[0m\u001b[0m\n\u001b[0;32m     18\u001b[0m \u001b[0mab\u001b[0m \u001b[1;33m=\u001b[0m \u001b[0mc\u001b[0m\u001b[1;33m\u001b[0m\u001b[0m\n\u001b[1;32m---> 19\u001b[1;33m \u001b[0mab\u001b[0m\u001b[1;33m=\u001b[0m\u001b[0mba\u001b[0m\u001b[1;33m\u001b[0m\u001b[0m\n\u001b[0m\u001b[0;32m     20\u001b[0m \u001b[0mprint\u001b[0m\u001b[1;33m(\u001b[0m\u001b[0mab\u001b[0m\u001b[1;33m)\u001b[0m\u001b[1;33m\u001b[0m\u001b[0m\n\u001b[0;32m     21\u001b[0m \u001b[0mprint\u001b[0m\u001b[1;33m(\u001b[0m\u001b[0mab\u001b[0m\u001b[1;33m)\u001b[0m\u001b[1;33m\u001b[0m\u001b[0m\n",
      "\u001b[1;31mNameError\u001b[0m: name 'ba' is not defined"
     ]
    }
   ],
   "source": [
    "#swaping of two nos\n",
    "a = 3\n",
    "b = 4\n",
    "d = a\n",
    "c = b\n",
    "a = c\n",
    "b = d\n",
    "\n",
    "print (\"values of a & b is\",c,d)\n",
    "\n",
    "a,b = 3,4\n",
    "a,b = b,a\n",
    "print(a,b)\n",
    "a,b = 3,4\n",
    "a = int(input(\"Please insert the value a \"))\n",
    "b = int(input(\"Please insert the value of b \"))\n",
    "c = a*b\n",
    "ab = c\n",
    "ab=ba\n",
    "print(ab)\n",
    "print(ab)\n",
    "c = list(range(c,1,-1))\n",
    "print(c)\n",
    "\n"
   ]
  },
  {
   "cell_type": "code",
   "execution_count": 26,
   "metadata": {},
   "outputs": [
    {
     "name": "stdout",
     "output_type": "stream",
     "text": [
      "variables are 4 2\n"
     ]
    }
   ],
   "source": [
    "#swapping of two\n",
    "a,b = 2,4\n",
    "a,b = b,a\n",
    "print(\"variables are\",a,b)\n"
   ]
  },
  {
   "cell_type": "code",
   "execution_count": 28,
   "metadata": {},
   "outputs": [
    {
     "name": "stdout",
     "output_type": "stream",
     "text": [
      "variables are ss 4\n"
     ]
    }
   ],
   "source": [
    "a = 'ss'\n",
    "b = 4\n",
    "print(\"variables are\",a,b)"
   ]
  },
  {
   "cell_type": "code",
   "execution_count": 6,
   "metadata": {},
   "outputs": [
    {
     "name": "stdout",
     "output_type": "stream",
     "text": [
      "3 yash why so this\n"
     ]
    }
   ],
   "source": [
    "a = 3\n",
    "b = 'yash'\n",
    "c,d,e = 'why','so','this'\n",
    "print(a,b,c,d,e)"
   ]
  },
  {
   "cell_type": "markdown",
   "metadata": {},
   "source": [
    "# Operators\n",
    "#Python supports seven types of operator"
   ]
  },
  {
   "cell_type": "markdown",
   "metadata": {},
   "source": [
    "# arithmetic operator\n",
    "a = 20\n",
    "b = -40\n",
    "\n",
    "#addition\n",
    "print(\"Addition of values\",a+b)\n",
    "#sub\n",
    "print(\"Subtration of values\",a-b)\n",
    "#multi\n",
    "print(\"multiplication of values\",a*b)\n",
    "#div\n",
    "#division of values in python gives exact values\n",
    "print(\"Exact division of values\",a/b)\n",
    "#module will give remainder\n",
    "print(\"module division values\",a%b)\n",
    "#floor division\n",
    "#Floor division in python gives quotient\n",
    "#floor will always give lowest minus value of a quotient\n",
    "print(\"Floor division value is\",a//b )"
   ]
  },
  {
   "cell_type": "code",
   "execution_count": 13,
   "metadata": {},
   "outputs": [
    {
     "name": "stdout",
     "output_type": "stream",
     "text": [
      "81\n",
      "0\n",
      "Tell us the value to be multiplied2\n",
      "0\n"
     ]
    }
   ],
   "source": [
    "a= 3\n",
    "b= 4\n",
    "print(a**b) # 3^4 -->>3*3*3*3 #a raise to b\n",
    "a = 4\n",
    "b = 6\n",
    "c = a//b\n",
    "print(c)\n",
    "e = int(input(\"Tell us the value to be multiplied\"))\n",
    "#e = 2\n",
    "d = c**e\n",
    "print(d)"
   ]
  },
  {
   "cell_type": "markdown",
   "metadata": {},
   "source": [
    "# comparison\n",
    "a = 3\n",
    "b = 34\n",
    "print(a>b,a<b,a!=b,a==b,a>=b,a<=b)\n",
    "#booleans first letter should be CAPITAL"
   ]
  },
  {
   "cell_type": "code",
   "execution_count": 16,
   "metadata": {},
   "outputs": [
    {
     "name": "stdout",
     "output_type": "stream",
     "text": [
      "False True False\n"
     ]
    }
   ],
   "source": [
    "a = 4\n",
    "b = 9\n",
    "print(a>b,a<=b,a==b)"
   ]
  },
  {
   "cell_type": "markdown",
   "metadata": {},
   "source": [
    "# Assignment\n",
    "a=10\n",
    "print(a)\n",
    "a+=10\n",
    "print(a)\n",
    "a**=10 # compound assignment\n",
    "print(a)\n",
    "a//=10\n",
    "print(a)"
   ]
  },
  {
   "cell_type": "code",
   "execution_count": 21,
   "metadata": {},
   "outputs": [
    {
     "name": "stdout",
     "output_type": "stream",
     "text": [
      "0\n",
      "10\n",
      "0\n",
      "0.0\n"
     ]
    }
   ],
   "source": [
    "a//=10\n",
    "print(a)\n",
    "a+=10\n",
    "print(a)\n",
    "a-=10\n",
    "print(a)\n",
    "a/=3\n",
    "print(a)\n"
   ]
  },
  {
   "cell_type": "code",
   "execution_count": 23,
   "metadata": {},
   "outputs": [
    {
     "name": "stdout",
     "output_type": "stream",
     "text": [
      "20\n",
      "2\n"
     ]
    }
   ],
   "source": [
    "a = 10\n",
    "a+=10\n",
    "print(a)\n",
    "a//=10\n",
    "print(a)"
   ]
  },
  {
   "cell_type": "code",
   "execution_count": 41,
   "metadata": {},
   "outputs": [
    {
     "ename": "SyntaxError",
     "evalue": "invalid syntax (<ipython-input-41-04956fe7e1fd>, line 3)",
     "output_type": "error",
     "traceback": [
      "\u001b[1;36m  File \u001b[1;32m\"<ipython-input-41-04956fe7e1fd>\"\u001b[1;36m, line \u001b[1;32m3\u001b[0m\n\u001b[1;33m    a++\u001b[0m\n\u001b[1;37m       ^\u001b[0m\n\u001b[1;31mSyntaxError\u001b[0m\u001b[1;31m:\u001b[0m invalid syntax\n"
     ]
    }
   ],
   "source": [
    "#python Doesn't support pre and post increment like\n",
    "a = 10\n",
    "a++\n",
    "a--\n",
    "print(a)#invalid\n",
    "a=10\n",
    "print(a++)\n",
    "print(a)\n",
    "a=10\n",
    "print(++a)\n",
    "print(a)"
   ]
  },
  {
   "cell_type": "markdown",
   "metadata": {},
   "source": [
    "# Bitwise\n",
    "a=10\n",
    "b=2\n",
    "print(bin(a))\n",
    "print(bin(2))\n",
    "c= a&b\n",
    "print(\"and of a and b value is\",bin(c))#to convert decimal into binary\n",
    "print(c)\n",
    "d= a|b\n",
    "print(\"or of a and b value is\",bin(d))\n",
    "print(d)"
   ]
  },
  {
   "cell_type": "code",
   "execution_count": 29,
   "metadata": {},
   "outputs": [
    {
     "name": "stdout",
     "output_type": "stream",
     "text": [
      "0b0\n",
      "0b10\n",
      "and of a and b value is 0\n",
      "0\n",
      "or of a and b value is 0b0\n",
      "0\n"
     ]
    }
   ],
   "source": [
    "a=0\n",
    "b=2\n",
    "print(bin(a))\n",
    "print(bin(2))\n",
    "c= a&b\n",
    "print(\"and of a and b value is\",c)#to convert decimal into binary\n",
    "print(c)\n",
    "d= a|b&c\n",
    "print(\"or of a and b value is\",bin(d))\n",
    "print(d)"
   ]
  },
  {
   "cell_type": "markdown",
   "metadata": {},
   "source": [
    "# Membership\n",
    "a = \"Hello world\"\n",
    "print(\"w\" in a)\n",
    "print (\"world\" in a)\n",
    "print (\"W\" not in a)\n",
    "print (\"W\" in a)\n"
   ]
  },
  {
   "cell_type": "code",
   "execution_count": 38,
   "metadata": {},
   "outputs": [
    {
     "name": "stdout",
     "output_type": "stream",
     "text": [
      "True\n",
      "True\n",
      "True\n",
      "False\n",
      "285731811184\n",
      "285731810672\n",
      "1975217696\n",
      "1975217696\n"
     ]
    }
   ],
   "source": [
    "a = \"Hello world\"\n",
    "b = \"Hello world\"\n",
    "print(\"w\" in a)\n",
    "print (\"world\" in a)\n",
    "print (\"W\" not in a)\n",
    "print (\"W\" in a)\n",
    "print(id(a))\n",
    "print(id(b))\n",
    "c = 3\n",
    "d = 3\n",
    "print(id(c))\n",
    "print(id(d))"
   ]
  },
  {
   "cell_type": "code",
   "execution_count": 51,
   "metadata": {},
   "outputs": [
    {
     "name": "stdout",
     "output_type": "stream",
     "text": [
      "1812554496\n",
      "1812554496\n"
     ]
    }
   ],
   "source": [
    "#How does python save memory? or \n",
    "#why space complexity in python is very less compare other programming lang?\n",
    "\n",
    "a= 20\n",
    "b= 20\n",
    "print(id(a))\n",
    "print(id(b))# it will save the memory in the first itself anf give a reference to other variables having the same value"
   ]
  },
  {
   "cell_type": "markdown",
   "metadata": {},
   "source": [
    "#identity\n",
    "\n",
    "a = 10\n",
    "b = 10\n",
    "print(a is b)\n",
    "print(not a is b)"
   ]
  },
  {
   "cell_type": "markdown",
   "metadata": {},
   "source": [
    "# identity\n",
    "\n",
    "a = 10\n",
    "b = 10\n",
    "print(a is b)\n",
    "print(not a is b)"
   ]
  },
  {
   "cell_type": "markdown",
   "metadata": {},
   "source": [
    "# logical operator\n",
    "\n",
    "a = 10\n",
    "b = 20\n",
    "c = 10\n",
    "print(a and b)\n",
    "print (a or b)\n",
    "print(a and b or c)\n",
    "print (a and b and c)\n",
    "print (a or b and c)\n",
    "a = 0\n",
    "b = 20 \n",
    "c = 10\n",
    "print(a and b)\n",
    "print (a or b)\n",
    "print(a and b or c)\n",
    "print (a and b and c)\n",
    "print (a or b and c)\n",
    "\n"
   ]
  },
  {
   "cell_type": "code",
   "execution_count": 3,
   "metadata": {},
   "outputs": [
    {
     "name": "stdout",
     "output_type": "stream",
     "text": [
      "20\n",
      "10\n",
      "20\n",
      "10\n",
      "10\n",
      "0\n",
      "20\n",
      "10\n",
      "0\n",
      "10\n",
      "0\n"
     ]
    }
   ],
   "source": [
    "a = 10\n",
    "b = 20\n",
    "c = 10\n",
    "print(a and b)\n",
    "print (a or b)\n",
    "print(a and b or c)\n",
    "print (a and b and c)\n",
    "print (a or b and c)\n",
    "a = 0\n",
    "b = 20 \n",
    "c = 10\n",
    "print(a and b)\n",
    "print (a or b)\n",
    "print(a and b or c)\n",
    "print (a and b and c)\n",
    "print (a or b and c)\n",
    "b = 10\n",
    "c = 0\n",
    "print(b and c)"
   ]
  },
  {
   "cell_type": "code",
   "execution_count": 59,
   "metadata": {},
   "outputs": [
    {
     "name": "stdout",
     "output_type": "stream",
     "text": [
      "5\n"
     ]
    }
   ],
   "source": [
    "#precedence operator\n",
    "a =2 \n",
    "b=3\n",
    "c=1\n",
    "print(a*b+c**b-a*c)"
   ]
  },
  {
   "cell_type": "markdown",
   "metadata": {},
   "source": [
    "# Note\n",
    "#Highest precedence->**\n",
    "#lowest precedence->logical operator"
   ]
  },
  {
   "cell_type": "code",
   "execution_count": 61,
   "metadata": {},
   "outputs": [
    {
     "ename": "SyntaxError",
     "evalue": "invalid syntax (<ipython-input-61-f423c91f13a4>, line 10)",
     "output_type": "error",
     "traceback": [
      "\u001b[1;36m  File \u001b[1;32m\"<ipython-input-61-f423c91f13a4>\"\u001b[1;36m, line \u001b[1;32m10\u001b[0m\n\u001b[1;33m    ->if statement\u001b[0m\n\u001b[1;37m     ^\u001b[0m\n\u001b[1;31mSyntaxError\u001b[0m\u001b[1;31m:\u001b[0m invalid syntax\n"
     ]
    }
   ],
   "source": [
    "#Decision making\n",
    "\n",
    "#Python follows rule of indentation-->1 tab-->4 blankspace\n",
    "\n",
    "#Indentation rule\n",
    "#will be applicable only on block of code\n",
    "#python doesn't allow {} but allows ;\n",
    "\n",
    "#Decision making include\n",
    "#->if statement\n",
    "#->if else statement\n",
    "#->if elif else statement\n",
    "# note ->No switch case in python"
   ]
  },
  {
   "cell_type": "code",
   "execution_count": 47,
   "metadata": {},
   "outputs": [
    {
     "name": "stdout",
     "output_type": "stream",
     "text": [
      "b is greater\n",
      "both are equal\n",
      "Yash in Drama\n",
      "Perfect...Bingo!\n"
     ]
    }
   ],
   "source": [
    "a = 20\n",
    "b = 20\n",
    "if a>b:#colon to make cursor enter that if block\n",
    "    print(\"a is greater\")\n",
    "else:\n",
    "    print(\"b is greater\")\n",
    "if (a==b):\n",
    "    print(\"both are equal\")\n",
    "    \n",
    "a = \"Yash in Drama\"\n",
    "print(a) if ('Yash' in a and 'Drama' in a) else print(\"WHy such mistakes\")\n",
    "\n",
    "if ('love' in a):\n",
    "    print(\"Absolutely correct\")\n",
    "elif('Yash' in a or 'love' in a):\n",
    "    print(\"Perfect...Bingo!\")\n",
    "else:\n",
    "    print(\"Better luck next time\")"
   ]
  },
  {
   "cell_type": "code",
   "execution_count": 49,
   "metadata": {},
   "outputs": [
    {
     "name": "stdout",
     "output_type": "stream",
     "text": [
      "c is greater\n"
     ]
    }
   ],
   "source": [
    "a = 10\n",
    "b = 10\n",
    "c = 10\n",
    "if (a>b and a>c):\n",
    "    print(\"a is greater\") \n",
    "elif(b>a and b>c):\n",
    "    print(\"b is greater\") \n",
    "else:\n",
    "    print(\"c is greater\")"
   ]
  },
  {
   "cell_type": "code",
   "execution_count": 71,
   "metadata": {},
   "outputs": [
    {
     "name": "stdout",
     "output_type": "stream",
     "text": [
      "20\n"
     ]
    }
   ],
   "source": [
    "###\n",
    "a = 20\n",
    "b = 10\n",
    "print(a) if a>b else print(b)"
   ]
  },
  {
   "cell_type": "code",
   "execution_count": 76,
   "metadata": {},
   "outputs": [
    {
     "name": "stdout",
     "output_type": "stream",
     "text": [
      "30\n"
     ]
    }
   ],
   "source": [
    "#Single line then else if else if\n",
    "a = 10\n",
    "b = 20\n",
    "c = 30\n",
    "print(a) if a>b and a>c else print(b) if (b>c and b>a) else print(c)"
   ]
  },
  {
   "cell_type": "code",
   "execution_count": 50,
   "metadata": {},
   "outputs": [
    {
     "name": "stdout",
     "output_type": "stream",
     "text": [
      "[0, 1, 2, 3, 4, 5, 6, 7, 8, 9, 10, 11, 12, 13, 14, 15, 16, 17, 18, 19, 20, 21, 22, 23, 24, 25, 26, 27, 28, 29, 30, 31, 32, 33, 34, 35, 36, 37, 38, 39, 40, 41, 42, 43, 44, 45, 46, 47, 48, 49, 50, 51, 52, 53, 54, 55, 56, 57, 58, 59, 60, 61, 62, 63, 64, 65, 66, 67, 68, 69, 70, 71, 72, 73, 74, 75, 76, 77, 78, 79, 80, 81, 82, 83, 84, 85, 86, 87, 88, 89, 90, 91, 92, 93, 94, 95, 96, 97, 98, 99]\n"
     ]
    }
   ],
   "source": [
    "\n",
    "print(list(range(100)))"
   ]
  },
  {
   "cell_type": "code",
   "execution_count": 80,
   "metadata": {},
   "outputs": [
    {
     "name": "stdout",
     "output_type": "stream",
     "text": [
      "[-100, -99, -98, -97, -96, -95, -94, -93, -92, -91, -90, -89, -88, -87, -86, -85, -84, -83, -82, -81, -80, -79, -78, -77, -76, -75, -74, -73, -72, -71, -70, -69, -68, -67, -66, -65, -64, -63, -62, -61, -60, -59, -58, -57, -56, -55, -54, -53, -52, -51, -50, -49, -48, -47, -46, -45, -44, -43, -42, -41, -40, -39, -38, -37, -36, -35, -34, -33, -32, -31, -30, -29, -28, -27, -26, -25, -24, -23, -22, -21, -20, -19, -18, -17, -16, -15, -14, -13, -12, -11, -10, -9, -8, -7, -6, -5, -4, -3, -2, -1, 0, 1, 2, 3, 4, 5, 6, 7, 8, 9, 10, 11, 12, 13, 14, 15, 16, 17, 18, 19, 20, 21, 22, 23, 24, 25, 26, 27, 28, 29, 30, 31, 32, 33, 34, 35, 36, 37, 38, 39, 40, 41, 42, 43, 44, 45, 46, 47, 48, 49, 50, 51, 52, 53, 54, 55, 56, 57, 58, 59, 60, 61, 62, 63, 64, 65, 66, 67, 68, 69, 70, 71, 72, 73, 74, 75, 76, 77, 78, 79, 80, 81, 82, 83, 84, 85, 86, 87, 88, 89, 90, 91, 92, 93, 94, 95, 96, 97, 98, 99]\n"
     ]
    }
   ],
   "source": [
    "print(list(range(-100,100)))"
   ]
  },
  {
   "cell_type": "code",
   "execution_count": 83,
   "metadata": {},
   "outputs": [
    {
     "name": "stdout",
     "output_type": "stream",
     "text": [
      "[0, 1, 2, 3, 4, 5, 6, 7, 8, 9, 10, 11, 12, 13, 14, 15, 16, 17, 18, 19, 20, 21, 22, 23, 24, 25, 26, 27, 28, 29, 30, 31, 32, 33, 34, 35, 36, 37, 38, 39, 40, 41, 42, 43, 44, 45, 46, 47, 48, 49, 50, 51, 52, 53, 54, 55, 56, 57, 58, 59, 60, 61, 62, 63, 64, 65, 66, 67, 68, 69, 70, 71, 72, 73, 74, 75, 76, 77, 78, 79, 80, 81, 82, 83, 84, 85, 86, 87, 88, 89, 90, 91, 92, 93, 94, 95, 96, 97, 98, 99]\n"
     ]
    }
   ],
   "source": [
    "print(list(range(100)))"
   ]
  },
  {
   "cell_type": "code",
   "execution_count": 53,
   "metadata": {},
   "outputs": [
    {
     "name": "stdout",
     "output_type": "stream",
     "text": [
      "[1, 2, 3, 4, 5, 6, 7, 8, 9, 10, 11, 12, 13, 14, 15, 16, 17, 18, 19, 20, 21, 22, 23, 24, 25, 26, 27, 28, 29, 30, 31, 32, 33, 34, 35, 36, 37, 38, 39, 40, 41, 42, 43, 44, 45, 46, 47, 48, 49, 50, 51, 52, 53, 54, 55, 56, 57, 58, 59, 60, 61, 62, 63, 64, 65, 66, 67, 68, 69, 70, 71, 72, 73, 74, 75, 76, 77, 78, 79, 80, 81, 82, 83, 84, 85, 86, 87, 88, 89, 90, 91, 92, 93, 94, 95, 96, 97, 98, 99]\n"
     ]
    }
   ],
   "source": [
    "print(list(range(1,100)))"
   ]
  },
  {
   "cell_type": "code",
   "execution_count": 84,
   "metadata": {},
   "outputs": [
    {
     "name": "stdout",
     "output_type": "stream",
     "text": [
      "[0, 2, 4, 6, 8, 10, 12, 14, 16, 18, 20, 22, 24, 26, 28, 30, 32, 34, 36, 38, 40, 42, 44, 46, 48, 50, 52, 54, 56, 58, 60, 62, 64, 66, 68, 70, 72, 74, 76, 78, 80, 82, 84, 86, 88, 90, 92, 94, 96, 98]\n"
     ]
    }
   ],
   "source": [
    "print(list(range(0,100,2)))"
   ]
  },
  {
   "cell_type": "code",
   "execution_count": 1,
   "metadata": {},
   "outputs": [
    {
     "name": "stdout",
     "output_type": "stream",
     "text": [
      "(100, 99, 98, 97, 96, 95, 94, 93, 92, 91, 90, 89, 88, 87, 86, 85, 84, 83, 82, 81, 80, 79, 78, 77, 76, 75, 74, 73, 72, 71, 70, 69, 68, 67, 66, 65, 64, 63, 62, 61, 60, 59, 58, 57, 56, 55, 54, 53, 52, 51, 50, 49, 48, 47, 46, 45, 44, 43, 42, 41, 40, 39, 38, 37, 36, 35, 34, 33, 32, 31, 30, 29, 28, 27, 26, 25, 24, 23, 22, 21, 20, 19, 18, 17, 16, 15, 14, 13, 12, 11, 10, 9, 8, 7, 6, 5, 4, 3, 2, 1)\n"
     ]
    }
   ],
   "source": [
    "print(tuple(range(100,0,-1)))"
   ]
  },
  {
   "cell_type": "code",
   "execution_count": 91,
   "metadata": {},
   "outputs": [
    {
     "name": "stdout",
     "output_type": "stream",
     "text": [
      "[]\n"
     ]
    }
   ],
   "source": [
    "print(list(range(10,1)))#this will not work because the jump should be there and that too negative for reverse flow"
   ]
  },
  {
   "cell_type": "code",
   "execution_count": 92,
   "metadata": {
    "collapsed": true
   },
   "outputs": [],
   "source": [
    "# LOOP\n",
    "#While\n",
    "#for loop\n",
    "#nested loop\n",
    "#infinity loop for menu driven\n",
    "#control statement-->break-->continue-->pass\n",
    "#Single line loop"
   ]
  },
  {
   "cell_type": "code",
   "execution_count": 93,
   "metadata": {
    "collapsed": true
   },
   "outputs": [],
   "source": [
    "counter = 0"
   ]
  },
  {
   "cell_type": "code",
   "execution_count": 94,
   "metadata": {
    "collapsed": true
   },
   "outputs": [],
   "source": [
    "#to take data from user\n",
    "#input()\n",
    "#int()\n",
    "#float()\n",
    "#str()\n",
    "#list()\n",
    "#tuple()\n"
   ]
  },
  {
   "cell_type": "code",
   "execution_count": 97,
   "metadata": {},
   "outputs": [
    {
     "name": "stdout",
     "output_type": "stream",
     "text": [
      "Enter your nameYash\n",
      "Welcome  Yash\n"
     ]
    }
   ],
   "source": [
    "name = input(\"Enter your name\")\n",
    "\n",
    "if (\"admin\" in name):\n",
    "    print(\"Welcome admin\",name)\n",
    "else:\n",
    "    print(\"Welcome \",name)"
   ]
  },
  {
   "cell_type": "code",
   "execution_count": 56,
   "metadata": {},
   "outputs": [
    {
     "name": "stdout",
     "output_type": "stream",
     "text": [
      "Enter no 120\n",
      "Enter no 210\n",
      "10.0\n"
     ]
    }
   ],
   "source": [
    "#addition\n",
    "no1 = float(input(\"Enter no 1\"))#float so as to read it as a no if you will not use no then it will concatenate the nob\n",
    "no2 = float(input(\"Enter no 2\"))\n",
    "print(no1 - no2)"
   ]
  },
  {
   "cell_type": "code",
   "execution_count": null,
   "metadata": {
    "collapsed": true
   },
   "outputs": [],
   "source": []
  },
  {
   "cell_type": "code",
   "execution_count": 2,
   "metadata": {
    "scrolled": true
   },
   "outputs": [
    {
     "name": "stdout",
     "output_type": "stream",
     "text": [
      "hello all\n",
      "hello all\n",
      "hello all\n",
      "hello all\n",
      "hello all\n",
      "hello all\n",
      "hello all\n",
      "hello all\n",
      "hello all\n",
      "hello all\n"
     ]
    }
   ],
   "source": [
    "### loop\n",
    "#while\n",
    "counter = 0\n",
    "while(counter < 10):\n",
    "    print(\"hello all\")\n",
    "    counter+=1\n",
    "    "
   ]
  },
  {
   "cell_type": "raw",
   "metadata": {},
   "source": [
    "#for loop\n",
    "for i in "
   ]
  },
  {
   "cell_type": "code",
   "execution_count": 73,
   "metadata": {},
   "outputs": [
    {
     "name": "stdout",
     "output_type": "stream",
     "text": [
      "h \n",
      "e \n",
      "l \n",
      "l \n",
      "o \n",
      "  \n",
      "w \n",
      "o \n",
      "r \n",
      "l \n",
      "d \n",
      "1 2 3 4 5 6 7 8 9 1\n",
      "2\n",
      "3\n",
      "4\n",
      "5\n",
      "6\n",
      "7\n",
      "8\n",
      "9\n",
      "1\n",
      "2\n",
      "3\n",
      "4\n",
      "5\n",
      "6\n",
      "7\n",
      "8\n",
      "9\n",
      "h e l l o   w o r l d "
     ]
    }
   ],
   "source": [
    "#for loop\n",
    "for i in \"hello world\":\n",
    "    print(i,end=\" \" )\n",
    "    print()\n",
    "    \n",
    "for i in tuple(range(1,10)):\n",
    "    print(i,end=\" \")\n",
    "for i in range(1,10):\n",
    "    print(i)\n",
    "for i in list(range(1,10)):\n",
    "    print(i)\n",
    "for i in \"hello world\":\n",
    "    print(i,end=\" \")"
   ]
  },
  {
   "cell_type": "code",
   "execution_count": 71,
   "metadata": {},
   "outputs": [
    {
     "name": "stdout",
     "output_type": "stream",
     "text": [
      "1 2 3 4 5 6 7 8 9 10 \n",
      "2 4 6 8 10 12 14 16 18 20 \n",
      "3 6 9 12 15 18 21 24 27 30 \n",
      "4 8 12 16 20 24 28 32 36 40 \n",
      "5 10 15 20 25 30 35 40 45 50 \n",
      "6 12 18 24 30 36 42 48 54 60 \n",
      "7 14 21 28 35 42 49 56 63 70 \n",
      "8 16 24 32 40 48 56 64 72 80 \n",
      "9 18 27 36 45 54 63 72 81 90 \n",
      "10 20 30 40 50 60 70 80 90 100 \n",
      "11 22 33 44 55 66 77 88 99 110 \n",
      "12 24 36 48 60 72 84 96 108 120 \n",
      "13 26 39 52 65 78 91 104 117 130 \n",
      "14 28 42 56 70 84 98 112 126 140 \n",
      "15 30 45 60 75 90 105 120 135 150 \n",
      "16 32 48 64 80 96 112 128 144 160 \n",
      "17 34 51 68 85 102 119 136 153 170 \n",
      "18 36 54 72 90 108 126 144 162 180 \n",
      "19 38 57 76 95 114 133 152 171 190 \n",
      "20 40 60 80 100 120 140 160 180 200 \n",
      "21 42 63 84 105 126 147 168 189 210 \n",
      "22 44 66 88 110 132 154 176 198 220 \n",
      "23 46 69 92 115 138 161 184 207 230 \n",
      "24 48 72 96 120 144 168 192 216 240 \n",
      "25 50 75 100 125 150 175 200 225 250 \n",
      "26 52 78 104 130 156 182 208 234 260 \n",
      "27 54 81 108 135 162 189 216 243 270 \n",
      "28 56 84 112 140 168 196 224 252 280 \n",
      "29 58 87 116 145 174 203 232 261 290 \n",
      "30 60 90 120 150 180 210 240 270 300 \n",
      "31 62 93 124 155 186 217 248 279 310 \n",
      "32 64 96 128 160 192 224 256 288 320 \n",
      "33 66 99 132 165 198 231 264 297 330 \n",
      "34 68 102 136 170 204 238 272 306 340 \n",
      "35 70 105 140 175 210 245 280 315 350 \n",
      "36 72 108 144 180 216 252 288 324 360 \n",
      "37 74 111 148 185 222 259 296 333 370 \n",
      "38 76 114 152 190 228 266 304 342 380 \n",
      "39 78 117 156 195 234 273 312 351 390 \n",
      "40 80 120 160 200 240 280 320 360 400 \n",
      "41 82 123 164 205 246 287 328 369 410 \n",
      "42 84 126 168 210 252 294 336 378 420 \n",
      "43 86 129 172 215 258 301 344 387 430 \n",
      "44 88 132 176 220 264 308 352 396 440 \n",
      "45 90 135 180 225 270 315 360 405 450 \n",
      "46 92 138 184 230 276 322 368 414 460 \n",
      "47 94 141 188 235 282 329 376 423 470 \n",
      "48 96 144 192 240 288 336 384 432 480 \n",
      "49 98 147 196 245 294 343 392 441 490 \n",
      "50 100 150 200 250 300 350 400 450 500 \n",
      "51 102 153 204 255 306 357 408 459 510 \n",
      "52 104 156 208 260 312 364 416 468 520 \n",
      "53 106 159 212 265 318 371 424 477 530 \n",
      "54 108 162 216 270 324 378 432 486 540 \n",
      "55 110 165 220 275 330 385 440 495 550 \n",
      "56 112 168 224 280 336 392 448 504 560 \n",
      "57 114 171 228 285 342 399 456 513 570 \n",
      "58 116 174 232 290 348 406 464 522 580 \n",
      "59 118 177 236 295 354 413 472 531 590 \n",
      "60 120 180 240 300 360 420 480 540 600 \n",
      "61 122 183 244 305 366 427 488 549 610 \n",
      "62 124 186 248 310 372 434 496 558 620 \n",
      "63 126 189 252 315 378 441 504 567 630 \n",
      "64 128 192 256 320 384 448 512 576 640 \n",
      "65 130 195 260 325 390 455 520 585 650 \n",
      "66 132 198 264 330 396 462 528 594 660 \n",
      "67 134 201 268 335 402 469 536 603 670 \n",
      "68 136 204 272 340 408 476 544 612 680 \n",
      "69 138 207 276 345 414 483 552 621 690 \n",
      "70 140 210 280 350 420 490 560 630 700 \n",
      "71 142 213 284 355 426 497 568 639 710 \n",
      "72 144 216 288 360 432 504 576 648 720 \n",
      "73 146 219 292 365 438 511 584 657 730 \n",
      "74 148 222 296 370 444 518 592 666 740 \n",
      "75 150 225 300 375 450 525 600 675 750 \n",
      "76 152 228 304 380 456 532 608 684 760 \n",
      "77 154 231 308 385 462 539 616 693 770 \n",
      "78 156 234 312 390 468 546 624 702 780 \n",
      "79 158 237 316 395 474 553 632 711 790 \n",
      "80 160 240 320 400 480 560 640 720 800 \n",
      "81 162 243 324 405 486 567 648 729 810 \n",
      "82 164 246 328 410 492 574 656 738 820 \n",
      "83 166 249 332 415 498 581 664 747 830 \n",
      "84 168 252 336 420 504 588 672 756 840 \n",
      "85 170 255 340 425 510 595 680 765 850 \n",
      "86 172 258 344 430 516 602 688 774 860 \n",
      "87 174 261 348 435 522 609 696 783 870 \n",
      "88 176 264 352 440 528 616 704 792 880 \n",
      "89 178 267 356 445 534 623 712 801 890 \n",
      "90 180 270 360 450 540 630 720 810 900 \n",
      "91 182 273 364 455 546 637 728 819 910 \n",
      "92 184 276 368 460 552 644 736 828 920 \n",
      "93 186 279 372 465 558 651 744 837 930 \n",
      "94 188 282 376 470 564 658 752 846 940 \n",
      "95 190 285 380 475 570 665 760 855 950 \n",
      "96 192 288 384 480 576 672 768 864 960 \n",
      "97 194 291 388 485 582 679 776 873 970 \n",
      "98 196 294 392 490 588 686 784 882 980 \n",
      "99 198 297 396 495 594 693 792 891 990 \n",
      "100 200 300 400 500 600 700 800 900 1000 \n"
     ]
    }
   ],
   "source": [
    "for row in range(1,101):\n",
    "    for col in range(1,11):\n",
    "        print(row*col,end=\" \")\n",
    "    print()\n",
    "          \n",
    "    "
   ]
  },
  {
   "cell_type": "code",
   "execution_count": null,
   "metadata": {},
   "outputs": [
    {
     "name": "stdout",
     "output_type": "stream",
     "text": [
      "1.cash withdrawal, 2.Balance Enquiry, 3. Pin change, 4. Exit2\n"
     ]
    }
   ],
   "source": [
    "##menu driven using infinity loop\n",
    "amount = 2000\n",
    "pin = 2468\n",
    "while(True):\n",
    "    choice = int(input(\"1.'cash withdrawal', 2.Balance Enquiry, 3. Pin change, 4. Exit\"))\n",
    "    if (choice == 1):\n",
    "        entered_pin= int(input(\"Enter your pin\"))\n",
    "        if(entered_pin == pin):\n",
    "            withdrawal_amnt = int(input(\"Enter the amount\"))\n",
    "            if(withdrawal_amnt > amount):\n",
    "                print(\"Please Try again\")\n",
    "            if(withdrawal_amnt <= amount):\n",
    "                print(\"Please wait processing your money\")\n",
    "                amount -= withdrawal_amnt\n",
    "                print(\"Please collect your cash\")\n",
    "                \n",
    "            elif (choice == 2):\n",
    "                entered_pin= int(input(\"Enter your pin\"))\n",
    "                if(entered_pin == pin):\n",
    "                    print(\"your amount is \",amount)\n",
    "            \n",
    "            elif (choice == 3):\n",
    "                entered_pin=int(input(\"Enter your pin\"))\n",
    "                if(entered_pin == pin):\n",
    "                    pin = input(\"Enter your new pin\")\n",
    "                    print(\"Your pin has been changed successfully\")\n",
    "            elif (choice == 4):\n",
    "                print(\"Thanks for using ATM\")\n",
    "            else:\n",
    "                print(\"Enter valid option\")\n",
    "        \n",
    "           \n",
    "         \n",
    "                       \n",
    "                       \n",
    "                       \n",
    "                       \n",
    "                    \n",
    "\n",
    "                       "
   ]
  },
  {
   "cell_type": "code",
   "execution_count": null,
   "metadata": {},
   "outputs": [],
   "source": []
  }
 ],
 "metadata": {
  "kernelspec": {
   "display_name": "Python 3",
   "language": "python",
   "name": "python3"
  },
  "language_info": {
   "codemirror_mode": {
    "name": "ipython",
    "version": 3
   },
   "file_extension": ".py",
   "mimetype": "text/x-python",
   "name": "python",
   "nbconvert_exporter": "python",
   "pygments_lexer": "ipython3",
   "version": "3.8.3"
  }
 },
 "nbformat": 4,
 "nbformat_minor": 2
}
