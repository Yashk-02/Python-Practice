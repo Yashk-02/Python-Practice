{
 "cells": [
  {
   "cell_type": "code",
   "execution_count": 1,
   "metadata": {},
   "outputs": [],
   "source": [
    "###DICTIONARY####"
   ]
  },
  {
   "cell_type": "code",
   "execution_count": null,
   "metadata": {},
   "outputs": [],
   "source": [
    "course=[]\n",
    "name = input(\"Enter the name\")\n",
    "name = input(\"Enter the name\")\n",
    "name = input(\"Enter the name\")\n",
    "course.append(\"Enter course\")\n",
    "\n",
    "dict1 = {\"name\":name,\n",
    "         \"std\":std"
   ]
  },
  {
   "cell_type": "code",
   "execution_count": 7,
   "metadata": {},
   "outputs": [
    {
     "name": "stdout",
     "output_type": "stream",
     "text": [
      "{'address': {'city': 'mumbai', 'landmark': 'near XYZ hospital', 'pincode': 40210, 'state': 'maharashtra', 'room_no': 403, 'Sector': 'sec_07'}}\n"
     ]
    }
   ],
   "source": [
    "###nested Dictionary\n",
    "dict_address = {\"address\":{\"city\":\"mumbai\",\n",
    "                          \"landmark\":\"near XYZ hospital\",\n",
    "                            \"pincode\":40210,\n",
    "                             \"state\":\"maharashtra\",\n",
    "                              \"room_no\":403,\n",
    "                              \"Sector\":\"sec_07\"}}\n",
    "print(dict_address)"
   ]
  },
  {
   "cell_type": "code",
   "execution_count": 178,
   "metadata": {},
   "outputs": [
    {
     "ename": "TypeError",
     "evalue": "unhashable type: 'list'",
     "output_type": "error",
     "traceback": [
      "\u001b[1;31m---------------------------------------------------------------------------\u001b[0m",
      "\u001b[1;31mTypeError\u001b[0m                                 Traceback (most recent call last)",
      "\u001b[1;32m<ipython-input-178-0af87b559947>\u001b[0m in \u001b[0;36m<module>\u001b[1;34m()\u001b[0m\n\u001b[0;32m      1\u001b[0m \u001b[1;31m##key should be always immutable\u001b[0m\u001b[1;33m\u001b[0m\u001b[1;33m\u001b[0m\u001b[0m\n\u001b[0;32m      2\u001b[0m \u001b[1;33m\u001b[0m\u001b[0m\n\u001b[1;32m----> 3\u001b[1;33m \u001b[0mdic1\u001b[0m \u001b[1;33m=\u001b[0m \u001b[1;33m{\u001b[0m\u001b[1;33m[\u001b[0m\u001b[1;34m\"name\"\u001b[0m\u001b[1;33m]\u001b[0m\u001b[1;33m:\u001b[0m\u001b[1;34m\"rajesh\"\u001b[0m\u001b[1;33m}\u001b[0m\u001b[1;33m\u001b[0m\u001b[0m\n\u001b[0m\u001b[0;32m      4\u001b[0m \u001b[0mprint\u001b[0m\u001b[1;33m(\u001b[0m\u001b[0mdic1\u001b[0m\u001b[1;33m)\u001b[0m\u001b[1;33m\u001b[0m\u001b[0m\n\u001b[0;32m      5\u001b[0m \u001b[1;33m\u001b[0m\u001b[0m\n",
      "\u001b[1;31mTypeError\u001b[0m: unhashable type: 'list'"
     ]
    }
   ],
   "source": [
    "##key should be always immutable\n",
    "\n",
    "dic1 = {[\"name\"]:\"rajesh\"}\n",
    "print(dic1)\n",
    "\n",
    "#dic1 = {(\"me\"):rajesh\"}##tupples is immutable\n",
    "#print(dic1)\n"
   ]
  },
  {
   "cell_type": "code",
   "execution_count": 11,
   "metadata": {},
   "outputs": [
    {
     "name": "stdout",
     "output_type": "stream",
     "text": [
      "{'name': 'raj'}\n"
     ]
    }
   ],
   "source": [
    "dict1 = {\"name\":\"rajesh\",\"name\":\"raj\"}\n",
    "print(dict1)"
   ]
  },
  {
   "cell_type": "code",
   "execution_count": 25,
   "metadata": {},
   "outputs": [
    {
     "name": "stdout",
     "output_type": "stream",
     "text": [
      "{'name': 'prince', 'Std': '12th'}\n",
      "*******prince*******\n",
      "{'name': 'prince', 'Std': '12th', 'std': 'BSC'}\n",
      "{'name': 'prince', 'Std': '12th', 'std': 'BSC', 'roll_no': 36}\n"
     ]
    }
   ],
   "source": [
    "#### CRUD Operation on Dictionary\n",
    "#Create\n",
    "dict1 = {\"name\":\"prince\",\"Std\":\"12th\"}\n",
    "print(dict1)\n",
    "##Readng the Dictionary\n",
    "print(dict1[\"name\"].center(20,\"*\"))\n",
    "\n",
    "##UpdATE\n",
    "dict1[\"std\"] =  \"BSC\"\n",
    "print(dict1)\n",
    "dict1[\"roll_no\"] = 36\n",
    "print(dict1)\n",
    "\n"
   ]
  },
  {
   "cell_type": "code",
   "execution_count": 34,
   "metadata": {},
   "outputs": [
    {
     "name": "stdout",
     "output_type": "stream",
     "text": [
      "{}\n"
     ]
    }
   ],
   "source": [
    "##Delete\n",
    "#del dict1[\"name\"]\n",
    "#print(dict1)\n",
    "[].clear()\n",
    "print(dict1)\n"
   ]
  },
  {
   "cell_type": "markdown",
   "metadata": {},
   "source": [
    "# Methods and Function"
   ]
  },
  {
   "cell_type": "code",
   "execution_count": 36,
   "metadata": {},
   "outputs": [
    {
     "name": "stdout",
     "output_type": "stream",
     "text": [
      "2\n"
     ]
    }
   ],
   "source": [
    "dict1 = {\"name\":\"raj\",\"std\":\"12th\"}\n",
    "print(len(dict1))"
   ]
  },
  {
   "cell_type": "code",
   "execution_count": 38,
   "metadata": {},
   "outputs": [
    {
     "data": {
      "text/plain": [
       "30"
      ]
     },
     "execution_count": 38,
     "metadata": {},
     "output_type": "execute_result"
    }
   ],
   "source": [
    "open(\"demo.json\",\"w+\").write(str(dict1))"
   ]
  },
  {
   "cell_type": "code",
   "execution_count": 45,
   "metadata": {},
   "outputs": [
    {
     "name": "stdout",
     "output_type": "stream",
     "text": [
      "{'name': 'raj', 'std': '12th'}\n"
     ]
    }
   ],
   "source": [
    "#file = open(\"demo.json\",\"w+\")\n",
    "#file.write(str(dict1))\n",
    "file = open(\"demo.json\",\"r\")\n",
    "print(file.read())\n",
    "file.close()"
   ]
  },
  {
   "cell_type": "code",
   "execution_count": 51,
   "metadata": {},
   "outputs": [
    {
     "name": "stdout",
     "output_type": "stream",
     "text": [
      "{'name': 'yash', 'age': '23'} {'name': 'yash', 'age': '23'} {'name': 'yash', 'age': '23'}\n",
      "{'name': 'Raj', 'age': '23'} {'name': 'Raj', 'age': '23'} {'name': 'yash', 'age': '23'}\n"
     ]
    }
   ],
   "source": [
    "dict1 = {\"name\":\"yash\",\"age\":\"23\"}\n",
    "dict2 = dict1#it will have same ids so if any changes then it will be reflected automatically\n",
    "dict3 = dict1.copy()#it will not give the updated value as it is not directly assigned so they have different ids\n",
    "print(dict1,dict2,dict3)\n",
    "\n",
    "dict1[\"name\"] = \"Raj\"\n",
    "print(dict1,dict2,dict3)"
   ]
  },
  {
   "cell_type": "code",
   "execution_count": 179,
   "metadata": {},
   "outputs": [
    {
     "name": "stdout",
     "output_type": "stream",
     "text": [
      "{'name': 'Wow', 'std': 'Wow', 'roll_no': 'Wow'}\n"
     ]
    }
   ],
   "source": [
    "list1= [\"name\",\"std\",\"roll_no\"]\n",
    "print({}.fromkeys(list1,\"Wow\"))"
   ]
  },
  {
   "cell_type": "code",
   "execution_count": 54,
   "metadata": {},
   "outputs": [
    {
     "name": "stdout",
     "output_type": "stream",
     "text": [
      "Raj\n"
     ]
    }
   ],
   "source": [
    "print(dict1.get(\"name\")) #dict1[\"name\"]"
   ]
  },
  {
   "cell_type": "code",
   "execution_count": 55,
   "metadata": {},
   "outputs": [
    {
     "name": "stdout",
     "output_type": "stream",
     "text": [
      "True\n"
     ]
    }
   ],
   "source": [
    "print(dict1.__contains__(\"name\"))"
   ]
  },
  {
   "cell_type": "code",
   "execution_count": 59,
   "metadata": {},
   "outputs": [
    {
     "name": "stdout",
     "output_type": "stream",
     "text": [
      "[('name', 'Raj'), ('age', '23')]\n"
     ]
    }
   ],
   "source": [
    "print(list((dict1.items()))) #op-->list of tuples of key and values"
   ]
  },
  {
   "cell_type": "code",
   "execution_count": 60,
   "metadata": {},
   "outputs": [
    {
     "name": "stdout",
     "output_type": "stream",
     "text": [
      "['name', 'age']\n",
      "['Raj', '23']\n"
     ]
    }
   ],
   "source": [
    "print(list(dict1.keys()))\n",
    "print(list(dict1.values()))"
   ]
  },
  {
   "cell_type": "code",
   "execution_count": 64,
   "metadata": {},
   "outputs": [
    {
     "name": "stdout",
     "output_type": "stream",
     "text": [
      "None\n",
      "{'name': 'Raj', 'age': '23', 'address': None}\n"
     ]
    }
   ],
   "source": [
    "print(dict1.setdefault(\"address\"))\n",
    "print(dict1)##if dict1 me address is not there then it will give null and also make a new key in the dictionary file"
   ]
  },
  {
   "cell_type": "code",
   "execution_count": 66,
   "metadata": {},
   "outputs": [
    {
     "name": "stdout",
     "output_type": "stream",
     "text": [
      "{'name': 'raj', 'section': 'cloud computing', 'class': 'TE', 'div': 'b', 'dept': 'computer'}\n"
     ]
    }
   ],
   "source": [
    "dict_staff = {\"name\":\"raj\",\"section\":\"cloud computing\"}\n",
    "dict_class = {\"class\":\"TE\",\"div\":\"b\",\"dept\":\"computer\"}\n",
    "\n",
    "dict_staff.update(dict_class)\n",
    "print(dict_staff)"
   ]
  },
  {
   "cell_type": "code",
   "execution_count": 67,
   "metadata": {},
   "outputs": [],
   "source": [
    "#####################################################################"
   ]
  },
  {
   "cell_type": "markdown",
   "metadata": {},
   "source": [
    "# Functional Programming\n",
    "\n",
    "1.basic Function Explanation<br><hr>\n",
    "2.function without parameter<br><hr>\n",
    "3.function with parameter<br><hr>\n",
    "4.function with parameter having default values<br><hr>\n",
    "5.function with args<br><hr>\n",
    "6.function with kwargs<br><hr>\n",
    "7.lambda function<br><hr>\n",
    "8.map function<br><hr>\n",
    "9.reduce function<br><hr>\n",
    "10.filter function<br><hr>\n",
    "11.enumerate function<br><hr>\n",
    "12.zip function<br><hr>\n",
    "13.closure and decorator<br><hr>"
   ]
  },
  {
   "cell_type": "code",
   "execution_count": 73,
   "metadata": {},
   "outputs": [
    {
     "name": "stdout",
     "output_type": "stream",
     "text": [
      "hello all!\n"
     ]
    }
   ],
   "source": [
    "#basic function\n",
    "# declaring of function\n",
    "def printMe():\n",
    "    print(\"hello all!\")\n",
    "printMe()"
   ]
  },
  {
   "cell_type": "code",
   "execution_count": 70,
   "metadata": {},
   "outputs": [
    {
     "name": "stdout",
     "output_type": "stream",
     "text": [
      "hello all!\n"
     ]
    }
   ],
   "source": [
    "#calling of function\n",
    "printMe()"
   ]
  },
  {
   "cell_type": "code",
   "execution_count": 72,
   "metadata": {},
   "outputs": [
    {
     "name": "stdout",
     "output_type": "stream",
     "text": [
      "hello all\n"
     ]
    }
   ],
   "source": [
    "print(\"hello all\")"
   ]
  },
  {
   "cell_type": "code",
   "execution_count": 74,
   "metadata": {},
   "outputs": [],
   "source": [
    "def calculator(a,b):\n",
    "    return(a+b,a-b,a*b,a/b,a**b,a//b)"
   ]
  },
  {
   "cell_type": "code",
   "execution_count": 176,
   "metadata": {},
   "outputs": [
    {
     "data": {
      "text/plain": [
       "(15, 5, 50, 2.0, 100000, 2)"
      ]
     },
     "execution_count": 176,
     "metadata": {},
     "output_type": "execute_result"
    }
   ],
   "source": [
    "#add,sub,mul,div,exp,div_floor = calculator(10,5)\n",
    "calculator(10,5)\n",
    "#print(add,sub,mul,div,exp,div_floor)"
   ]
  },
  {
   "cell_type": "code",
   "execution_count": 85,
   "metadata": {},
   "outputs": [
    {
     "name": "stdout",
     "output_type": "stream",
     "text": [
      "1\n",
      "5\n",
      "25\n",
      "120\n",
      "20\n"
     ]
    }
   ],
   "source": [
    "# function having parameter with default value\n",
    "#declaration\n",
    "def multipleno(a=1,b=1):\n",
    "    print(a*b)\n",
    "    \n",
    "multipleno()\n",
    "multipleno(5)\n",
    "multipleno(5,5)\n",
    "multipleno(b=20,a=6)\n",
    "multipleno(a = 20)"
   ]
  },
  {
   "cell_type": "code",
   "execution_count": 86,
   "metadata": {},
   "outputs": [],
   "source": [
    "#function with args\n",
    "#declaration\n",
    "\n",
    "def iamArg(*args):\n",
    "    print(args)"
   ]
  },
  {
   "cell_type": "code",
   "execution_count": 89,
   "metadata": {},
   "outputs": [
    {
     "name": "stdout",
     "output_type": "stream",
     "text": [
      "(1, 23, 45, (23+56j), [1, 2, 3, 4, 5, 6, 7, 8, 9], {'name': 'Yash'})\n"
     ]
    }
   ],
   "source": [
    "iamArg(1,23,45,23+56j,list(range(1,10)),{\"name\":\"Yash\"})"
   ]
  },
  {
   "cell_type": "code",
   "execution_count": 90,
   "metadata": {},
   "outputs": [
    {
     "name": "stdout",
     "output_type": "stream",
     "text": [
      "{'name': 'yash'}\n"
     ]
    }
   ],
   "source": [
    "#function with kwargs\n",
    "#declaration\n",
    "\n",
    "def iamkwarg(**kw):\n",
    "    print(kw)\n",
    "iamkwarg(name = \"yash\")"
   ]
  },
  {
   "cell_type": "code",
   "execution_count": 92,
   "metadata": {},
   "outputs": [
    {
     "name": "stdout",
     "output_type": "stream",
     "text": [
      "(1, 2, 3, 4, 5, 6, 'yash')\n",
      "{'name': 'wow', 'Std': 'low'}\n"
     ]
    }
   ],
   "source": [
    "def iammixofargandkwarg(*arg,**kw):\n",
    "    print(arg)\n",
    "    print(kw)\n",
    "iammixofargandkwarg(1,2,3,4,5,6,\"yash\",name = \"wow\",Std = \"low\")"
   ]
  },
  {
   "cell_type": "code",
   "execution_count": 96,
   "metadata": {},
   "outputs": [
    {
     "name": "stdout",
     "output_type": "stream",
     "text": [
      "46\n",
      "44\n"
     ]
    }
   ],
   "source": [
    "#Lambda function\n",
    "#Lambda is also called as single line function\n",
    "#it is also called as anonymous function\n",
    "\n",
    "inc = lambda x:x+1\n",
    "dec = lambda x:x-1\n",
    "print(inc(45))\n",
    "print(dec(45))"
   ]
  },
  {
   "cell_type": "raw",
   "metadata": {},
   "source": []
  },
  {
   "cell_type": "code",
   "execution_count": 98,
   "metadata": {},
   "outputs": [
    {
     "data": {
      "text/plain": [
       "2"
      ]
     },
     "execution_count": 98,
     "metadata": {},
     "output_type": "execute_result"
    }
   ],
   "source": [
    "greater = lambda x,y,z : x if (x>y and x>z) else y if(y>x and y>z) else z\n",
    "greater(10,10,2)"
   ]
  },
  {
   "cell_type": "raw",
   "metadata": {},
   "source": []
  },
  {
   "cell_type": "code",
   "execution_count": 102,
   "metadata": {},
   "outputs": [
    {
     "name": "stdout",
     "output_type": "stream",
     "text": [
      "[1, 4, 9, 16, 25, 36, 49, 64, 81]\n"
     ]
    }
   ],
   "source": [
    "a = list(range(1,10))\n",
    "b = [i**2 for i in a]\n",
    "print(b)\n"
   ]
  },
  {
   "cell_type": "code",
   "execution_count": 187,
   "metadata": {},
   "outputs": [
    {
     "ename": "TypeError",
     "evalue": "can't multiply sequence by non-int of type 'str'",
     "output_type": "error",
     "traceback": [
      "\u001b[1;31m---------------------------------------------------------------------------\u001b[0m",
      "\u001b[1;31mTypeError\u001b[0m                                 Traceback (most recent call last)",
      "\u001b[1;32m<ipython-input-187-7381df595d7d>\u001b[0m in \u001b[0;36m<module>\u001b[1;34m()\u001b[0m\n\u001b[1;32m----> 1\u001b[1;33m \u001b[0mlist\u001b[0m\u001b[1;33m(\u001b[0m\u001b[0mmap\u001b[0m\u001b[1;33m(\u001b[0m\u001b[1;32mlambda\u001b[0m \u001b[0mx\u001b[0m\u001b[1;33m:\u001b[0m \u001b[0mx\u001b[0m\u001b[1;33m*\u001b[0m\u001b[0mx\u001b[0m\u001b[1;33m,\u001b[0m\u001b[0ma\u001b[0m\u001b[1;33m)\u001b[0m\u001b[1;33m)\u001b[0m\u001b[1;33m\u001b[0m\u001b[0m\n\u001b[0m",
      "\u001b[1;32m<ipython-input-187-7381df595d7d>\u001b[0m in \u001b[0;36m<lambda>\u001b[1;34m(x)\u001b[0m\n\u001b[1;32m----> 1\u001b[1;33m \u001b[0mlist\u001b[0m\u001b[1;33m(\u001b[0m\u001b[0mmap\u001b[0m\u001b[1;33m(\u001b[0m\u001b[1;32mlambda\u001b[0m \u001b[0mx\u001b[0m\u001b[1;33m:\u001b[0m \u001b[0mx\u001b[0m\u001b[1;33m*\u001b[0m\u001b[0mx\u001b[0m\u001b[1;33m,\u001b[0m\u001b[0ma\u001b[0m\u001b[1;33m)\u001b[0m\u001b[1;33m)\u001b[0m\u001b[1;33m\u001b[0m\u001b[0m\n\u001b[0m",
      "\u001b[1;31mTypeError\u001b[0m: can't multiply sequence by non-int of type 'str'"
     ]
    }
   ],
   "source": [
    "list(map(lambda x: x*x,a))"
   ]
  },
  {
   "cell_type": "code",
   "execution_count": 210,
   "metadata": {},
   "outputs": [
    {
     "name": "stdout",
     "output_type": "stream",
     "text": [
      "[1, 2, 3, 4, 5, 6, 7, 8, 9]\n",
      "['Wow no exists', 'Wow no exists', 'Wow no exists', 'Wow no exists', 'Wow no exists', 'Wow no exists', 'Wow no exists', 'Wow no exists', 'Wow no exists']\n"
     ]
    }
   ],
   "source": [
    "n = list(range(1,10))\n",
    "print(n)\n",
    "def fun(x):\n",
    "    for x in n:\n",
    "        return(\"Wow no exists\")\n",
    "        \n",
    "print(list(map(lambda x: fun(x),n)))\n",
    "\n",
    "\n",
    "\n",
    "    \n",
    "    "
   ]
  },
  {
   "cell_type": "code",
   "execution_count": 195,
   "metadata": {},
   "outputs": [
    {
     "name": "stdout",
     "output_type": "stream",
     "text": [
      "1\n"
     ]
    }
   ],
   "source": [
    "cube(2)"
   ]
  },
  {
   "cell_type": "code",
   "execution_count": 1,
   "metadata": {},
   "outputs": [
    {
     "data": {
      "text/plain": [
       "'4750******'"
      ]
     },
     "execution_count": 1,
     "metadata": {},
     "output_type": "execute_result"
    }
   ],
   "source": [
    "a = \"9545764750\"\n",
    "a[6:len(a)].ljust(len(a),\"*\")\n",
    "\n",
    "\n",
    "#a =[\"9545764750\",\"12345677889\",\"0987654321\"]\n",
    "#print(list(map(lambda a: a[6:len(a)].ljust(len(a),\"*\"),a)))"
   ]
  },
  {
   "cell_type": "code",
   "execution_count": 184,
   "metadata": {},
   "outputs": [],
   "source": [
    "list2 = [\"goa\",\"MAHARASHTRA\",\"MumBAi\",\"DElhi\",\"kanpur\"]\n",
    "def customFunc(x):\n",
    "    if x.isupper():\n",
    "        return x.lower()\n",
    "    elif x.islower():\n",
    "        return x.upper()\n",
    "    else:\n",
    "        return x.swapcase()"
   ]
  },
  {
   "cell_type": "code",
   "execution_count": 186,
   "metadata": {},
   "outputs": [
    {
     "name": "stdout",
     "output_type": "stream",
     "text": [
      "['GOA', 'maharashtra', 'mUMbaI', 'deLHI', 'KANPUR']\n"
     ]
    }
   ],
   "source": [
    "print(list(map(lambda x:customFunc(x),list2)))"
   ]
  },
  {
   "cell_type": "code",
   "execution_count": 109,
   "metadata": {},
   "outputs": [
    {
     "name": "stdout",
     "output_type": "stream",
     "text": [
      "['GOA', 'maharashtra', 'mUMbaI', 'deLHI', 'KANPUR']\n"
     ]
    }
   ],
   "source": [
    "print(list(map(lambda x:customFunc(x),list2)))"
   ]
  },
  {
   "cell_type": "code",
   "execution_count": 110,
   "metadata": {},
   "outputs": [
    {
     "name": "stdout",
     "output_type": "stream",
     "text": [
      "[2, 4, 6, 8, 10, 12, 14, 16, 18]\n"
     ]
    }
   ],
   "source": [
    "############# Filter Function##########\n",
    "list1 = list(range(1,20))\n",
    "print(list(filter(lambda x:x%2 == 0,list1)))"
   ]
  },
  {
   "cell_type": "code",
   "execution_count": 111,
   "metadata": {},
   "outputs": [
    {
     "name": "stdout",
     "output_type": "stream",
     "text": [
      "45\n"
     ]
    }
   ],
   "source": [
    "##### Reduce Function ##############\n",
    "from functools import reduce\n",
    "list1 = list(range(1,10))\n",
    "print(reduce(lambda x,y: x+y,list1))"
   ]
  },
  {
   "cell_type": "code",
   "execution_count": 113,
   "metadata": {},
   "outputs": [
    {
     "name": "stdout",
     "output_type": "stream",
     "text": [
      "Enter start20\n",
      "Enter end29\n",
      "[20, 21, 22, 23, 24, 25, 26, 27, 28]\n"
     ]
    }
   ],
   "source": [
    "st = int(input(\"Enter start\"))\n",
    "end = int(input(\"Enter end\"))\n",
    "print(list(range(st,end)))"
   ]
  },
  {
   "cell_type": "code",
   "execution_count": 246,
   "metadata": {},
   "outputs": [
    {
     "name": "stdout",
     "output_type": "stream",
     "text": [
      "0 w\n",
      "1 o\n",
      "2 r\n",
      "3 l\n",
      "4 d\n"
     ]
    }
   ],
   "source": [
    "##### Enumerate function ##########\n",
    " \n",
    "list1 = \"world\" #list(range(1,10))\n",
    "#print(enumerate(list1))\n",
    "for row,data in enumerate(list1):\n",
    "    print(row,data)"
   ]
  },
  {
   "cell_type": "code",
   "execution_count": 118,
   "metadata": {},
   "outputs": [
    {
     "name": "stdout",
     "output_type": "stream",
     "text": [
      "[(1, 'red', 'name', 1), (2, 'green', 'std', 2)]\n"
     ]
    }
   ],
   "source": [
    "###### Zip function ########\n",
    "no = list(range(1,10))\n",
    "list1 = [\"red\",\"green\",\"black\",\"yellow\"]\n",
    "list3 = {\"name\":\"yash\",\"std\":\"low\"}\n",
    "tup1 = tuple(range(1,5))\n",
    "print(list(zip(no,list1,list3,tup1)))####note parameters should be same"
   ]
  },
  {
   "cell_type": "code",
   "execution_count": 121,
   "metadata": {},
   "outputs": [
    {
     "ename": "SyntaxError",
     "evalue": "invalid syntax (<ipython-input-121-99d811f6830f>, line 2)",
     "output_type": "error",
     "traceback": [
      "\u001b[1;36m  File \u001b[1;32m\"<ipython-input-121-99d811f6830f>\"\u001b[1;36m, line \u001b[1;32m2\u001b[0m\n\u001b[1;33m    tool.\u001b[0m\n\u001b[1;37m         ^\u001b[0m\n\u001b[1;31mSyntaxError\u001b[0m\u001b[1;31m:\u001b[0m invalid syntax\n"
     ]
    }
   ],
   "source": [
    "import functools as tool\n",
    "tool."
   ]
  },
  {
   "cell_type": "markdown",
   "metadata": {},
   "source": [
    "# Closure and Decorator ##########"
   ]
  },
  {
   "cell_type": "code",
   "execution_count": 126,
   "metadata": {},
   "outputs": [
    {
     "name": "stdout",
     "output_type": "stream",
     "text": [
      "hello all\n"
     ]
    }
   ],
   "source": [
    "def printME():\n",
    "    print(\"hello all\")\n",
    "c = printME# c is an object of a function printMe\n",
    "c()"
   ]
  },
  {
   "cell_type": "code",
   "execution_count": 127,
   "metadata": {},
   "outputs": [],
   "source": [
    "def iamWrapper(func):\n",
    "    def actualfunc():\n",
    "        print(\"before actual calling\")\n",
    "        func()\n",
    "        print(\"after calling\")\n",
    "    return actualFunc"
   ]
  },
  {
   "cell_type": "code",
   "execution_count": 130,
   "metadata": {},
   "outputs": [
    {
     "ename": "NameError",
     "evalue": "name 'actualFunc' is not defined",
     "output_type": "error",
     "traceback": [
      "\u001b[1;31m---------------------------------------------------------------------------\u001b[0m",
      "\u001b[1;31mNameError\u001b[0m                                 Traceback (most recent call last)",
      "\u001b[1;32m<ipython-input-130-5ba91dec724e>\u001b[0m in \u001b[0;36m<module>\u001b[1;34m()\u001b[0m\n\u001b[0;32m      1\u001b[0m \u001b[1;32mdef\u001b[0m \u001b[0mprintMe\u001b[0m\u001b[1;33m(\u001b[0m\u001b[1;33m)\u001b[0m\u001b[1;33m:\u001b[0m\u001b[1;33m\u001b[0m\u001b[0m\n\u001b[0;32m      2\u001b[0m     \u001b[0mprint\u001b[0m\u001b[1;33m(\u001b[0m\u001b[1;34m\"Hello all again!1\"\u001b[0m\u001b[1;33m)\u001b[0m\u001b[1;33m\u001b[0m\u001b[0m\n\u001b[1;32m----> 3\u001b[1;33m \u001b[0mmyFunc\u001b[0m \u001b[1;33m=\u001b[0m \u001b[0miamWrapper\u001b[0m\u001b[1;33m(\u001b[0m\u001b[0mprintMe\u001b[0m\u001b[1;33m)\u001b[0m\u001b[1;33m\u001b[0m\u001b[0m\n\u001b[0m\u001b[0;32m      4\u001b[0m \u001b[0mmyFunc\u001b[0m\u001b[1;33m(\u001b[0m\u001b[1;33m)\u001b[0m\u001b[1;33m\u001b[0m\u001b[0m\n",
      "\u001b[1;32m<ipython-input-127-f6aa46cb04fa>\u001b[0m in \u001b[0;36miamWrapper\u001b[1;34m(func)\u001b[0m\n\u001b[0;32m      4\u001b[0m         \u001b[0mfunc\u001b[0m\u001b[1;33m(\u001b[0m\u001b[1;33m)\u001b[0m\u001b[1;33m\u001b[0m\u001b[0m\n\u001b[0;32m      5\u001b[0m         \u001b[0mprint\u001b[0m\u001b[1;33m(\u001b[0m\u001b[1;34m\"after calling\"\u001b[0m\u001b[1;33m)\u001b[0m\u001b[1;33m\u001b[0m\u001b[0m\n\u001b[1;32m----> 6\u001b[1;33m     \u001b[1;32mreturn\u001b[0m \u001b[0mactualFunc\u001b[0m\u001b[1;33m\u001b[0m\u001b[0m\n\u001b[0m",
      "\u001b[1;31mNameError\u001b[0m: name 'actualFunc' is not defined"
     ]
    }
   ],
   "source": [
    "def printMe():\n",
    "    print(\"Hello all again!1\")\n",
    "myFunc = iamWrapper(printMe)\n",
    "myFunc()"
   ]
  },
  {
   "cell_type": "code",
   "execution_count": null,
   "metadata": {},
   "outputs": [],
   "source": [
    "##PRomises in java script"
   ]
  },
  {
   "cell_type": "code",
   "execution_count": null,
   "metadata": {},
   "outputs": [],
   "source": [
    "def generateTag(tagname):\n",
    "    def generate(*s,**k)\n",
    "        [],\n",
    "        tagname(\"<{>)>>{}</{}\""
   ]
  },
  {
   "cell_type": "markdown",
   "metadata": {},
   "source": [
    "# Decorator"
   ]
  },
  {
   "cell_type": "code",
   "execution_count": 132,
   "metadata": {},
   "outputs": [
    {
     "ename": "SyntaxError",
     "evalue": "invalid syntax (<ipython-input-132-c5ce19be8613>, line 1)",
     "output_type": "error",
     "traceback": [
      "\u001b[1;36m  File \u001b[1;32m\"<ipython-input-132-c5ce19be8613>\"\u001b[1;36m, line \u001b[1;32m1\u001b[0m\n\u001b[1;33m    1.Calling generate tag\u001b[0m\n\u001b[1;37m            ^\u001b[0m\n\u001b[1;31mSyntaxError\u001b[0m\u001b[1;31m:\u001b[0m invalid syntax\n"
     ]
    }
   ],
   "source": [
    "1.Calling generate tag\n",
    "2.passing parameter as settagname\n",
    "3.settagname it is assigning generate function object"
   ]
  },
  {
   "cell_type": "code",
   "execution_count": 137,
   "metadata": {},
   "outputs": [],
   "source": [
    "def generateTag(tagname):\n",
    "    def generate(*a,**k):\n",
    "        for i in a:\n",
    "            tagname(\"<{}>{}</{}>\".format(i,k[\"value\"],i))\n",
    "    return generate"
   ]
  },
  {
   "cell_type": "code",
   "execution_count": 211,
   "metadata": {},
   "outputs": [
    {
     "name": "stdout",
     "output_type": "stream",
     "text": [
      "<h1>Good afternoon</h1>\n",
      "<marquee>Breaking News</marquee>\n"
     ]
    }
   ],
   "source": [
    "@generateTag\n",
    "def setTagName(data):\n",
    "    print(data)\n",
    "    \n",
    "setTagName(\"h1\",value= \"Good afternoon\")\n",
    "setTagName(\"marquee\",value = \"Breaking News\") "
   ]
  },
  {
   "cell_type": "code",
   "execution_count": 143,
   "metadata": {},
   "outputs": [
    {
     "name": "stdout",
     "output_type": "stream",
     "text": [
      "<p>hello</p>\n"
     ]
    }
   ],
   "source": [
    "def setTagName(data):\n",
    "    print(data)\n",
    "gen=generateTag(setTagName)\n",
    "gen(\"p\",value=\"hello\",id_name=\"p2\",class_name=\"mrg\",name=\"p_name\")"
   ]
  },
  {
   "cell_type": "code",
   "execution_count": 147,
   "metadata": {},
   "outputs": [],
   "source": [
    "def validate(func):\n",
    "    def check(name):\n",
    "        if(len(name)!=0 and name.isupper()):\n",
    "            func(name)\n",
    "        else:\n",
    "            print(\"please check your input\")\n",
    "    return check"
   ]
  },
  {
   "cell_type": "code",
   "execution_count": 213,
   "metadata": {},
   "outputs": [],
   "source": [
    "@validate\n",
    "def writeInFile(data):\n",
    "    open(\"data.txt\",\"w+\").write(str(data))"
   ]
  },
  {
   "cell_type": "code",
   "execution_count": 222,
   "metadata": {},
   "outputs": [
    {
     "name": "stdout",
     "output_type": "stream",
     "text": [
      "DHARMIK\n"
     ]
    }
   ],
   "source": [
    "writeInFile(\"DHARMIK\")\n",
    "c = open(\"data.txt\",\"r\")\n",
    "print(c.read())\n",
    "#c.close()\n"
   ]
  },
  {
   "cell_type": "code",
   "execution_count": 151,
   "metadata": {},
   "outputs": [],
   "source": [
    "#####################################################################################################"
   ]
  },
  {
   "cell_type": "markdown",
   "metadata": {},
   "source": [
    "# Exception handling\n",
    "1. Unit testing\n",
    "2.Exception\n",
    "3.handling\n",
    "4.Block of code"
   ]
  },
  {
   "cell_type": "markdown",
   "metadata": {},
   "source": [
    "# Unit Testing\n",
    "def square(x):\n",
    "    return x*x"
   ]
  },
  {
   "cell_type": "code",
   "execution_count": 21,
   "metadata": {},
   "outputs": [
    {
     "name": "stdout",
     "output_type": "stream",
     "text": [
      "Enter the value of x5\n"
     ]
    },
    {
     "data": {
      "text/plain": [
       "25.0"
      ]
     },
     "execution_count": 21,
     "metadata": {},
     "output_type": "execute_result"
    }
   ],
   "source": [
    "def square(x):\n",
    "    return x*x\n",
    "\n",
    "y = float(input(\"Enter the value of x\"))\n",
    "\n",
    "square(y)\n",
    "\n",
    "\n"
   ]
  },
  {
   "cell_type": "code",
   "execution_count": 20,
   "metadata": {},
   "outputs": [],
   "source": [
    "\n",
    "assert(square(y)) == 25\n",
    "##assert(square()) == -1"
   ]
  },
  {
   "cell_type": "code",
   "execution_count": null,
   "metadata": {},
   "outputs": [],
   "source": [
    "try:\n",
    "    operation\n",
    "except Base exception as e:\n",
    "    second flow\n",
    "        OR\n",
    "    alternate flow\n",
    "         OR\n",
    "    Proper msg\n",
    "else:\n",
    "    Acknowledgement\n",
    "finally:\n",
    "flush memory,closwd\n",
    "    "
   ]
  },
  {
   "cell_type": "code",
   "execution_count": 22,
   "metadata": {},
   "outputs": [
    {
     "name": "stdout",
     "output_type": "stream",
     "text": [
      "25\n"
     ]
    }
   ],
   "source": [
    "def square(x):\n",
    "    return x*x\n",
    "\n",
    "try:\n",
    "    sq=square(5)\n",
    "except Baseexception as e:\n",
    "    print(\"Some thing went wrong!\")\n",
    "else:\n",
    "    print(sq)\n",
    "finally:\n",
    "    del sq\n"
   ]
  },
  {
   "cell_type": "code",
   "execution_count": 238,
   "metadata": {},
   "outputs": [
    {
     "ename": "TypeError",
     "evalue": "unsupported operand type(s) for *: '_io.TextIOWrapper' and '_io.TextIOWrapper'",
     "output_type": "error",
     "traceback": [
      "\u001b[1;31m---------------------------------------------------------------------------\u001b[0m",
      "\u001b[1;31mTypeError\u001b[0m                                 Traceback (most recent call last)",
      "\u001b[1;32m<ipython-input-238-d13563f62c49>\u001b[0m in \u001b[0;36m<module>\u001b[1;34m()\u001b[0m\n\u001b[1;32m----> 1\u001b[1;33m \u001b[0msquare\u001b[0m\u001b[1;33m(\u001b[0m\u001b[0mc\u001b[0m\u001b[1;33m)\u001b[0m\u001b[1;33m\u001b[0m\u001b[0m\n\u001b[0m",
      "\u001b[1;32m<ipython-input-236-b2f5d30b107d>\u001b[0m in \u001b[0;36msquare\u001b[1;34m(x)\u001b[0m\n\u001b[0;32m      1\u001b[0m \u001b[1;32mdef\u001b[0m \u001b[0msquare\u001b[0m\u001b[1;33m(\u001b[0m\u001b[0mx\u001b[0m\u001b[1;33m)\u001b[0m\u001b[1;33m:\u001b[0m\u001b[1;33m\u001b[0m\u001b[0m\n\u001b[1;32m----> 2\u001b[1;33m     \u001b[1;32mreturn\u001b[0m \u001b[0mx\u001b[0m\u001b[1;33m*\u001b[0m\u001b[0mx\u001b[0m\u001b[1;33m\u001b[0m\u001b[0m\n\u001b[0m\u001b[0;32m      3\u001b[0m \u001b[1;33m\u001b[0m\u001b[0m\n\u001b[0;32m      4\u001b[0m \u001b[1;32mtry\u001b[0m\u001b[1;33m:\u001b[0m\u001b[1;33m\u001b[0m\u001b[0m\n\u001b[0;32m      5\u001b[0m     \u001b[0msq\u001b[0m\u001b[1;33m=\u001b[0m\u001b[0msquare\u001b[0m\u001b[1;33m(\u001b[0m\u001b[1;36m5\u001b[0m\u001b[1;33m)\u001b[0m\u001b[1;33m\u001b[0m\u001b[0m\n",
      "\u001b[1;31mTypeError\u001b[0m: unsupported operand type(s) for *: '_io.TextIOWrapper' and '_io.TextIOWrapper'"
     ]
    }
   ],
   "source": [
    "square(c)"
   ]
  },
  {
   "cell_type": "code",
   "execution_count": 230,
   "metadata": {},
   "outputs": [],
   "source": [
    "def n(x):\n",
    "    try:\n",
    "        sq=0\n",
    "        sq=x*x\n",
    "    except BaseException as e:\n",
    "        return -1\n",
    "    else:\n",
    "        return sq\n",
    "    finally:\n",
    "        del sq"
   ]
  },
  {
   "cell_type": "code",
   "execution_count": 233,
   "metadata": {},
   "outputs": [
    {
     "data": {
      "text/plain": [
       "-1"
      ]
     },
     "execution_count": 233,
     "metadata": {},
     "output_type": "execute_result"
    }
   ],
   "source": [
    "n(c)"
   ]
  },
  {
   "cell_type": "code",
   "execution_count": 167,
   "metadata": {},
   "outputs": [],
   "source": [
    "def n(x):\n",
    "    try:\n",
    "        sq=0\n",
    "        sq=x*x\n",
    "    except BaseException as e:\n",
    "        print(e)\n",
    "        return -1\n",
    "    else:\n",
    "        return sq\n",
    "    finally:\n",
    "        del sq"
   ]
  },
  {
   "cell_type": "code",
   "execution_count": 168,
   "metadata": {},
   "outputs": [
    {
     "name": "stdout",
     "output_type": "stream",
     "text": [
      "can't multiply sequence by non-int of type 'list'\n"
     ]
    },
    {
     "data": {
      "text/plain": [
       "-1"
      ]
     },
     "execution_count": 168,
     "metadata": {},
     "output_type": "execute_result"
    }
   ],
   "source": [
    "n(a)"
   ]
  },
  {
   "cell_type": "code",
   "execution_count": 172,
   "metadata": {},
   "outputs": [],
   "source": [
    "def secondFlow(no1,no2):\n",
    "    try:\n",
    "        div=0\n",
    "        if(no1 is not float and no2 is not float):\n",
    "            no1=float(no1)\n",
    "            no2=float(no2)\n",
    "            div=no1/no2\n",
    "    except Baseexception as e:\n",
    "        Print(\"2nd error caught!..Please try again\")\n",
    "        firstFlow()\n",
    "    else:\n",
    "        print(\"division is\",div)\n",
    "    finally:\n",
    "        del div\n",
    "        "
   ]
  },
  {
   "cell_type": "code",
   "execution_count": 174,
   "metadata": {
    "scrolled": true
   },
   "outputs": [
    {
     "name": "stdout",
     "output_type": "stream",
     "text": [
      "Enter no 120\n",
      "Enter no 230\n",
      "Error caught! Transfering to Second flow\n",
      "division is 0.6666666666666666\n"
     ]
    }
   ],
   "source": [
    "firstFlow()"
   ]
  },
  {
   "cell_type": "code",
   "execution_count": 175,
   "metadata": {},
   "outputs": [
    {
     "name": "stdout",
     "output_type": "stream",
     "text": [
      "Enter yor nameass\n"
     ]
    },
    {
     "ename": "NameError",
     "evalue": "name 'name' is not defined",
     "output_type": "error",
     "traceback": [
      "\u001b[1;31m---------------------------------------------------------------------------\u001b[0m",
      "\u001b[1;31mNameError\u001b[0m                                 Traceback (most recent call last)",
      "\u001b[1;32m<ipython-input-175-03f031cb710d>\u001b[0m in \u001b[0;36m<module>\u001b[1;34m()\u001b[0m\n\u001b[0;32m      1\u001b[0m \u001b[0minput\u001b[0m\u001b[1;33m(\u001b[0m\u001b[1;34m\"Enter yor name\"\u001b[0m\u001b[1;33m)\u001b[0m\u001b[1;33m\u001b[0m\u001b[0m\n\u001b[1;32m----> 2\u001b[1;33m \u001b[1;32mif\u001b[0m\u001b[1;33m(\u001b[0m\u001b[0mname\u001b[0m \u001b[1;33m!=\u001b[0m \u001b[1;34m\"admin123\"\u001b[0m\u001b[1;33m)\u001b[0m\u001b[1;33m:\u001b[0m\u001b[1;33m\u001b[0m\u001b[0m\n\u001b[0m\u001b[0;32m      3\u001b[0m     \u001b[1;32mraise\u001b[0m \u001b[0mException\u001b[0m\u001b[1;33m(\u001b[0m\u001b[1;34m\"Invalid name\"\u001b[0m\u001b[1;33m)\u001b[0m\u001b[1;33m\u001b[0m\u001b[0m\n",
      "\u001b[1;31mNameError\u001b[0m: name 'name' is not defined"
     ]
    }
   ],
   "source": [
    "input(\"Enter yor name\")\n",
    "if(name != \"admin123\"):\n",
    "    raise Exception(\"Invalid name\")"
   ]
  },
  {
   "cell_type": "code",
   "execution_count": null,
   "metadata": {},
   "outputs": [],
   "source": [
    "################################################################\n",
    "1.LPTHW\n",
    "\n",
    "#############################################################\n",
    "Enter para = hello world\n",
    "1.search 2.replace 3.recent search 4. recent replace 5.exit\n",
    "1-->\n",
    "     Enter word to be search-->world\n",
    "    your word is present at index position -->6\n",
    "    \n",
    "3-->\n",
    "    [\"world\"]\n",
    "2-->\n",
    "    enter old word to be replaced -->world\n",
    "    enter new word to be replace with ->python\n",
    "    your new paragraph is --> hello python\n",
    "    \n",
    "4--> \n",
    "    [\"world\"]\n",
    "    \n",
    "1->sdfsdf\n",
    "\n",
    "3-->\n",
    "   [\"sdfdsd\",\"world\"]\n",
    "    \n",
    "5-->\n",
    "  \n",
    "     Thank you for using have a good day!\n",
    "    "
   ]
  },
  {
   "cell_type": "raw",
   "metadata": {},
   "source": []
  },
  {
   "cell_type": "code",
   "execution_count": 163,
   "metadata": {},
   "outputs": [
    {
     "data": {
      "text/plain": [
       "25"
      ]
     },
     "execution_count": 163,
     "metadata": {},
     "output_type": "execute_result"
    }
   ],
   "source": [
    "square(5)"
   ]
  }
 ],
 "metadata": {
  "kernelspec": {
   "display_name": "Python 3",
   "language": "python",
   "name": "python3"
  },
  "language_info": {
   "codemirror_mode": {
    "name": "ipython",
    "version": 3
   },
   "file_extension": ".py",
   "mimetype": "text/x-python",
   "name": "python",
   "nbconvert_exporter": "python",
   "pygments_lexer": "ipython3",
   "version": "3.6.4"
  }
 },
 "nbformat": 4,
 "nbformat_minor": 2
}
